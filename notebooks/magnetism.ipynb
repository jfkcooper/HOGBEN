{
 "cells": [
  {
   "cell_type": "markdown",
   "metadata": {},
   "source": [
    "# Experimental Design\n",
    "***\n",
    "## Magnetism\n",
    "\n",
    "We can also make use of magnetic layers in HOGBEN. The syntax is similar to the non-magnetic layers, and spin-states should be handled automatically. At the moment, the magnetic layers are completely defined in terms of their magnetic SLD."
   ]
  },
  {
   "cell_type": "markdown",
   "metadata": {},
   "source": "Import the necessary packages and code to use magnetic layers."
  },
  {
   "cell_type": "code",
   "metadata": {},
   "source": [
    "%matplotlib inline\n",
    "\n",
    "from refnx.reflect import SLD\n",
    "from refnx.analysis import Parameter\n",
    "from hogben.models.samples import Sample\n",
    "from hogben.models.base import MagneticSLD\n",
    "from hogben.optimise import optimise_parameters"
   ],
   "outputs": [],
   "execution_count": null
  },
  {
   "cell_type": "markdown",
   "metadata": {},
   "source": "We can create a magnetic layer using the `MagneticSLD` module in HOGBEN. The syntax mostly works the same as ordinary layers in `refnx`, with the difference that the magnetic part of the SLD should be given as a second argument in `MagneticSLD`. If no magnetic SLD is provided, the magnetic SLD defaults to 0. In this example, we will create a simple sample with a magnetic reference layer (MRL)."
  },
  {
   "cell_type": "code",
   "metadata": {},
   "source": [
    "def simple_sample():\n",
    "    \"\"\"Define a bilayer sample, and return the associated refnx model\"\"\"\n",
    "    \n",
    "    # Define the fitting parameters for the sample:\n",
    "    layer1_thick = Parameter(80, 'Layer 1 Thickness', (50, 120))\n",
    "    layer2_thick = Parameter(40, 'Layer 2 Thickness', (30, 50))\n",
    "    layer3_thick = Parameter(60, 'Layer 3 Thickness', (50, 120))    \n",
    "    \n",
    "    # Define the parameters for the reference layer that we want to optimize\n",
    "    ref_thick = Parameter(50, 'Reference layer Thickness', (0, 400))\n",
    "    ref_sld = Parameter(3, 'Reference layer SLD', (-1.9, 9.4))\n",
    "    ref_msld = Parameter(3, 'Reference layer Magnetic SLD', (0, 7))\n",
    "    \n",
    "    # Construct the layers\n",
    "    air = SLD(0, name='Air')\n",
    "    layer1 = SLD(6.5, name=\"Layer 1\")(thick=layer1_thick, rough=0)\n",
    "    layer2 = SLD(1.5, name=\"Layer 2\")(thick=layer2_thick, rough=0)\n",
    "    layer3 = SLD(4.5, name=\"Layer 3\")(thick=layer3_thick, rough=0)   \n",
    "    ref_layer_m = MagneticSLD(ref_sld, ref_msld, name=\"Layer 3\")(thick=ref_thick, rough=0)\n",
    "    substrate = SLD(2.074, name='Substrate')(rough=0)\n",
    "\n",
    "    # Create a structure, separating each layer with a `|`\n",
    "    structure = substrate | ref_layer_m | layer1 | layer2 | layer3 | air\n",
    "    return structure"
   ],
   "outputs": [],
   "execution_count": null
  },
  {
   "metadata": {},
   "cell_type": "markdown",
   "source": "We can now create our sample using the `Sample` module, and the spin-states are handled automatically. "
  },
  {
   "metadata": {},
   "cell_type": "code",
   "source": [
    "sample_structure = simple_sample()\n",
    "\n",
    "magnetic_sample = Sample(sample_structure)\n",
    "magnetic_sample.reflectivity_profile()\n",
    "magnetic_sample.sld_profile()"
   ],
   "outputs": [],
   "execution_count": null
  },
  {
   "metadata": {},
   "cell_type": "markdown",
   "source": "When initialising the sample, we can choose to turn the polarisation state on or off for the experiment. When the polarisation state is set to `False`, then the magnetic part of the SLD is not used at all. For example:"
  },
  {
   "metadata": {},
   "cell_type": "code",
   "source": [
    "magnetic_sample = Sample(sample_structure, polarised=False)\n",
    "magnetic_sample.reflectivity_profile()\n",
    "magnetic_sample.sld_profile()"
   ],
   "outputs": [],
   "execution_count": null
  },
  {
   "cell_type": "markdown",
   "metadata": {},
   "source": [
    "## Fisher optimitation of magnetic multilayers\n",
    "\n",
    "Working with magnetic layers works exactly the same as non-magnetic layers. Magnetic parameters can thus also be optimized. \n",
    "For these optimizations, the experiment is simulated twice with equal measuring time in the spin-up as well as in the spin-down direction. The neutron flux is automatically cut in half, due to the neutron loss in the polarization stage.\n",
    "\n",
    "In this example, we have a material "
   ]
  },
  {
   "cell_type": "code",
   "metadata": {},
   "source": [
    "def simple_sample_MRL():\n",
    "    \"\"\"Define a bilayer sample, and return the associated refnx model\"\"\"\n",
    "    \n",
    "    # Define the fitting parameters for the sample:\n",
    "    layer1_thick = Parameter(80, 'Layer 1 Thickness', (50, 120))\n",
    "    layer2_thick = Parameter(40, 'Layer 2 Thickness', (30, 50))\n",
    "    layer3_thick = Parameter(60, 'Layer 3 Thickness', (50, 120))    \n",
    "    layer1_rough = Parameter(4, 'Layer 1 Roughness', (2, 10))\n",
    "    layer2_rough = Parameter(5, 'Layer 2 Roughness', (2, 10))\n",
    "    layer3_rough = Parameter(3, 'Layer 3 Roughness', (50, 120))\n",
    "    \n",
    "    # Define the parameters for the reference layer that we want to optimize\n",
    "    ref_thick = Parameter(50, 'Reference layer Thickness', (0, 400))\n",
    "    ref_sld = Parameter(3, 'Reference layer SLD', (-1.9, 9.4))\n",
    "    ref_msld = Parameter(3, 'Reference layer Magnetic SLD', (0, 7))\n",
    "\n",
    "    # Tell HOGBEN that these parameters should be optimized\n",
    "    ref_thick.optimize = True\n",
    "    ref_sld.optimize = True\n",
    "    ref_msld.optimize = True\n",
    "    \n",
    "    # Construct the layers\n",
    "    air = SLD(0, name='Air')\n",
    "    layer1 = SLD(6.5, name=\"Layer 1\")(thick=layer1_thick, rough=0)\n",
    "    layer2 = SLD(1.5, name=\"Layer 2\")(thick=layer2_thick, rough=0)\n",
    "    layer3 = SLD(4.5, name=\"Layer 3\")(thick=layer3_thick, rough=0)   \n",
    "    ref_layer_m = MagneticSLD(ref_sld, ref_msld, name=\"Layer 3\")(thick=ref_thick, rough=0)\n",
    "\n",
    "    substrate = SLD(2.074, name='Substrate')(rough=0)\n",
    "\n",
    "    # Put all fitting parameters in a list\n",
    "    params = [\n",
    "        layer1_rough,\n",
    "        layer2_rough,\n",
    "        layer3_rough,\n",
    "        layer1_thick,\n",
    "        layer2_thick,\n",
    "        layer3_thick,\n",
    "    ]\n",
    "    \n",
    "    # Set all fitting parameters to be varying\n",
    "    for param in params:\n",
    "        param.vary = True\n",
    "    \n",
    "    # Create a structure, separating each layer with a `|`\n",
    "    structure = substrate | ref_layer_m | layer1 | layer2 | layer3 | air\n",
    "    return structure"
   ],
   "outputs": [],
   "execution_count": null
  },
  {
   "metadata": {},
   "cell_type": "code",
   "source": [
    "sample_structure = simple_sample_MRL()\n",
    "magnetic_sample = Sample(sample_structure)\n",
    "angle_times = [(0.7, 100, 100),\n",
    "               (2.3, 100, 400),\n",
    "               ]    \n",
    "optimise_parameters(magnetic_sample, angle_times)"
   ],
   "outputs": [],
   "execution_count": null
  },
  {
   "cell_type": "markdown",
   "metadata": {},
   "source": [
    "Get the plot of the log ratio of likelihoods between two models, one with an induced moment in the platinum layer and one with no moment, versus counting time for two structures: one with an optimised 26Å platinum layer thickness and the other with a sub-optimal 80Å thickness. The counting times shown are minutes per measured spin state (i.e., for this model, the total times are double the values shown here)."
   ]
  }
 ],
 "metadata": {
  "kernelspec": {
   "display_name": "Python 3 (ipykernel)",
   "language": "python",
   "name": "python3"
  },
  "language_info": {
   "codemirror_mode": {
    "name": "ipython",
    "version": 3
   },
   "file_extension": ".py",
   "mimetype": "text/x-python",
   "name": "python",
   "nbconvert_exporter": "python",
   "pygments_lexer": "ipython3",
   "version": "3.10"
  }
 },
 "nbformat": 4,
 "nbformat_minor": 4
}
