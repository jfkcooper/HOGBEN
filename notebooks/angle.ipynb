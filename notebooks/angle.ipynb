{
 "cells": [
  {
   "cell_type": "markdown",
   "metadata": {},
   "source": [
    "# Experimental Design\n",
    "***\n",
    "## Angle Choice"
   ]
  },
  {
   "cell_type": "markdown",
   "metadata": {},
   "source": [
    "Import the necessary packages and code for this application of the framework."
   ]
  },
  {
   "cell_type": "markdown",
   "metadata": {},
   "source": [
    "Next, define the structure using [refnx](https://refnx.readthedocs.io/) that we want to find the optimal measurement angle(s) for."
   ]
  },
  {
   "cell_type": "code",
   "execution_count": null,
   "outputs": [],
   "source": [],
   "metadata": {
    "collapsed": false,
    "ExecuteTime": {
     "end_time": "2023-10-31T14:44:23.689912067Z",
     "start_time": "2023-10-31T14:44:23.689170351Z"
    }
   }
  },
  {
   "cell_type": "code",
   "execution_count": 1,
   "outputs": [],
   "source": [
    "from IPython.display import HTML\n",
    "%matplotlib inline\n",
    "\n",
    "import numpy as np\n",
    "\n",
    "from refnx.reflect import SLD\n",
    "\n",
    "from hogben.optimise import Optimiser\n",
    "from hogben.models.samples import Sample\n",
    "from hogben.visualise import angle_choice, angle_choice_with_time\n",
    "from hogben.utils import Fisher\n",
    "\n",
    "\n",
    "# Reduce size of plots for the notebook.\n",
    "import matplotlib.pyplot as plt\n",
    "plt.rcParams['figure.figsize'] = (6,4)\n",
    "plt.rcParams['figure.dpi'] = 100"
   ],
   "metadata": {
    "collapsed": false,
    "ExecuteTime": {
     "end_time": "2023-10-31T14:44:25.900086869Z",
     "start_time": "2023-10-31T14:44:23.787366421Z"
    }
   }
  },
  {
   "cell_type": "code",
   "execution_count": 2,
   "metadata": {
    "ExecuteTime": {
     "end_time": "2023-10-31T14:44:26.281782356Z",
     "start_time": "2023-10-31T14:44:25.904114625Z"
    }
   },
   "outputs": [
    {
     "ename": "NameError",
     "evalue": "name 'scale' is not defined",
     "output_type": "error",
     "traceback": [
      "\u001B[0;31m---------------------------------------------------------------------------\u001B[0m",
      "\u001B[0;31mNameError\u001B[0m                                 Traceback (most recent call last)",
      "Cell \u001B[0;32mIn[2], line 11\u001B[0m\n\u001B[1;32m      7\u001B[0m structure\u001B[38;5;241m.\u001B[39mname \u001B[38;5;241m=\u001B[39m \u001B[38;5;124m'\u001B[39m\u001B[38;5;124mthin_layer_sample\u001B[39m\u001B[38;5;124m'\u001B[39m\n\u001B[1;32m     10\u001B[0m \u001B[38;5;66;03m# Wrap the refnx structure in the custom Sample class for Fisher information framework.\u001B[39;00m\n\u001B[0;32m---> 11\u001B[0m sample \u001B[38;5;241m=\u001B[39m \u001B[43mSample\u001B[49m\u001B[43m(\u001B[49m\u001B[43mstructure\u001B[49m\u001B[43m,\u001B[49m\u001B[43m \u001B[49m\u001B[43mbkg\u001B[49m\u001B[38;5;241;43m=\u001B[39;49m\u001B[38;5;241;43m5e-60\u001B[39;49m\u001B[43m)\u001B[49m\n",
      "File \u001B[0;32m~/Projects/HOGBEN/hogben/models/samples.py:54\u001B[0m, in \u001B[0;36mSample.__init__\u001B[0;34m(self, structure, **settings)\u001B[0m\n\u001B[1;32m     52\u001B[0m \u001B[38;5;28mself\u001B[39m\u001B[38;5;241m.\u001B[39mstructure \u001B[38;5;241m=\u001B[39m structure\n\u001B[1;32m     53\u001B[0m \u001B[38;5;28mself\u001B[39m\u001B[38;5;241m.\u001B[39mname \u001B[38;5;241m=\u001B[39m structure\u001B[38;5;241m.\u001B[39mname\n\u001B[0;32m---> 54\u001B[0m \u001B[38;5;28mself\u001B[39m\u001B[38;5;241m.\u001B[39mscale \u001B[38;5;241m=\u001B[39m settings\u001B[38;5;241m.\u001B[39mget(\u001B[43mscale\u001B[49m, \u001B[38;5;241m1\u001B[39m)\n\u001B[1;32m     55\u001B[0m \u001B[38;5;28mself\u001B[39m\u001B[38;5;241m.\u001B[39mbkg \u001B[38;5;241m=\u001B[39m settings\u001B[38;5;241m.\u001B[39mget(bkg, \u001B[38;5;241m5e-6\u001B[39m)\n\u001B[1;32m     56\u001B[0m \u001B[38;5;28mself\u001B[39m\u001B[38;5;241m.\u001B[39mdq \u001B[38;5;241m=\u001B[39m settings\u001B[38;5;241m.\u001B[39mget(dq, \u001B[38;5;241m0.02\u001B[39m)\n",
      "\u001B[0;31mNameError\u001B[0m: name 'scale' is not defined"
     ]
    }
   ],
   "source": [
    "# Defines a structure describing a simple sample.\n",
    "air = SLD(0, name='Air')\n",
    "layer1 = SLD(4, name='Layer 1')(thick=200, rough=2)\n",
    "layer2 = SLD(6, name='Layer 2')(thick=6, rough=2)\n",
    "substrate = SLD(2.047, name='Substrate')(thick=0, rough=2)\n",
    "structure = air | layer1 | layer2 | substrate\n",
    "structure.name = 'thin_layer_sample'\n",
    "\n",
    "\n",
    "# Wrap the refnx structure in the custom Sample class for Fisher information framework.\n",
    "sample = Sample(structure, bkg=5e-6)"
   ]
  },
  {
   "cell_type": "markdown",
   "metadata": {},
   "source": [
    "Define the inputs to the angle selection code."
   ]
  },
  {
   "cell_type": "code",
   "execution_count": null,
   "metadata": {},
   "outputs": [],
   "source": [
    "# Path to directory to save results to.\n",
    "save_path = '../examples/results'\n",
    "\n",
    "# Number of data points to simulate.\n",
    "points = 150\n",
    "\n",
    "# Time to use for simulation.\n",
    "# A time of 1 approximately corresponds to 1.5 minutes.\n",
    "time = 40\n",
    "\n",
    "# Angles (in degrees) to consider.\n",
    "angle_range = np.linspace(0.2, 2.3, 200)"
   ]
  },
  {
   "cell_type": "markdown",
   "metadata": {},
   "source": [
    "***\n",
    "### First Angle\n",
    "First investigate the initial angle choice for the defined sample."
   ]
  },
  {
   "cell_type": "code",
   "execution_count": null,
   "outputs": [],
   "source": [
    "initial_angle_times = [] # No angles measured so far.\n",
    "angle_1 = angle_choice(sample, initial_angle_times, angle_range, points, time, save_path, 'angle_choice_1')\n",
    "print('First angle choice: {}'.format(round(angle_1, 2)))"
   ],
   "metadata": {
    "collapsed": false
   }
  },
  {
   "cell_type": "markdown",
   "source": [
    "***\n",
    "### Second Angle\n",
    "We can also look at subsequent angles. For this sample, it appears that measuring the same angle for longer is optimal until we reach a counting time of around 6 times longer than our initial time. You will see the improvement in the low angle range as the counting time is adjusted."
   ],
   "metadata": {
    "collapsed": false
   }
  },
  {
   "cell_type": "code",
   "execution_count": null,
   "outputs": [],
   "source": [
    "x = 6 # Change x to adjust the counting time.\n",
    "initial_angle_times = [(angle_1, points, time*x)] # (Angle, Points, Time)\n",
    "angle_2 = angle_choice(sample, initial_angle_times, angle_range, points, time, save_path, 'angle_choice_2')\n",
    "print('Second angle choice: {}'.format(round(angle_2, 2)))"
   ],
   "metadata": {
    "collapsed": false
   }
  },
  {
   "cell_type": "markdown",
   "metadata": {},
   "source": [
    "***\n",
    "### Time Dependence"
   ]
  },
  {
   "cell_type": "markdown",
   "metadata": {},
   "source": [
    "Instead of manually investigating different counting times, we can create an animation of how the choice of second angle will change as the measurement time of the initial angle increases.\n",
    "\n",
    "Click the ▶ button in the plot below to play the animation."
   ]
  },
  {
   "cell_type": "code",
   "execution_count": null,
   "outputs": [],
   "source": [
    "angle_times = [(2.3, 150, 103.15789473684211), (1.5714285714285712, 150, 40)]\n",
    "fisher = Fisher.from_sample(sample, angle_times)"
   ],
   "metadata": {
    "collapsed": false
   }
  },
  {
   "cell_type": "code",
   "execution_count": null,
   "metadata": {
    "scrolled": false
   },
   "outputs": [],
   "source": [
    "angle_range = np.linspace(0.2, 2.3, 50)\n",
    "time_range = np.linspace(0, time*7, 20)\n",
    "anim = angle_choice_with_time(sample, angle_1, angle_range, time_range, points, time, save_path)\n",
    "HTML(anim.to_jshtml(default_mode='reflect')) # Converting to JavaScript HTML requires recalculation."
   ]
  },
  {
   "cell_type": "markdown",
   "metadata": {},
   "source": [
    "***\n",
    "### Optimisation"
   ]
  },
  {
   "cell_type": "markdown",
   "source": [
    "So far, our experimental design has involved quite a lot of manual work. Instead of investigating individual plots like above, we can define a fixed time budget and number of angles, and apply an established optimisation algorithm to find the optimal solution for us.\n",
    "\n",
    "Here we apply the differential evolution algorithm to find the optimal angles to measure and the split of measurement times between them."
   ],
   "metadata": {
    "collapsed": false
   }
  },
  {
   "cell_type": "code",
   "execution_count": null,
   "outputs": [],
   "source": [
    "optimiser = Optimiser(sample)\n",
    "num_angles = 2 # Number of angles to optimise.\n",
    "\n",
    "# Find the optimal angles and times using differential evolution.\n",
    "angles, splits, _ = optimiser.optimise_angle_times(num_angles, angle_bounds=(0.2, 2.3), verbose=False)\n",
    "\n",
    "# Calculate the counting times from the splits using total counting time of 100.\n",
    "times = np.array(splits) * 100\n",
    "\n",
    "print('Angles: {}'.format(np.round(angles, 2)))\n",
    "print('Times: {}'.format(np.round(times, 1)))"
   ],
   "metadata": {
    "collapsed": false
   }
  },
  {
   "cell_type": "markdown",
   "source": [
    "As can be seen, the results strongly agree with our above findings."
   ],
   "metadata": {
    "collapsed": false
   }
  }
 ],
 "metadata": {
  "kernelspec": {
   "display_name": "Python 3 (ipykernel)",
   "language": "python",
   "name": "python3"
  },
  "language_info": {
   "codemirror_mode": {
    "name": "ipython",
    "version": 3
   },
   "file_extension": ".py",
   "mimetype": "text/x-python",
   "name": "python",
   "nbconvert_exporter": "python",
   "pygments_lexer": "ipython3",
   "version": "3.10"
  }
 },
 "nbformat": 4,
 "nbformat_minor": 4
}
