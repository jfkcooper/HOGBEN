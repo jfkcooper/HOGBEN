{
 "cells": [
  {
   "cell_type": "markdown",
   "source": [
    "# Experimental Design\n",
    "***\n",
    "## Optimising underlayers\n",
    "\n",
    "Import the necessary libraries"
   ],
   "metadata": {
    "collapsed": false
   }
  },
  {
   "cell_type": "code",
   "execution_count": 1,
   "outputs": [],
   "source": [
    "import copy\n",
    "%matplotlib inline\n",
    "\n",
    "from hogben.models.samples import Sample, MagneticLayer\n",
    "import numpy as np\n",
    "from hogben.optimise import Optimiser\n",
    "from hogben.utils import Fisher\n",
    "from refnx.reflect import SLD\n",
    "\n",
    "import matplotlib.pyplot as plt\n",
    "from hogben.simulate import SimulateReflectivity\n",
    "\n",
    "def refnx_sample():\n",
    "    \"\"\"Define a bilayer sample, and return the associated refnx model\"\"\"\n",
    "    # Define sample\n",
    "    air = SLD(0, name='Air')\n",
    "    layer2 = SLD(6, name='Layer 2')(thick=104, rough=8)\n",
    "    underlayer = MagneticLayer(SL=0.1, thick=20, rough=5, mag=4.0, density=7)\n",
    "    substrate = SLD(2, name='Substrate')(thick=0, rough=5)\n",
    "    \n",
    "    layer2.thick.bounds = (10, 30)\n",
    "    layer2.rough.bounds = (4, 10)\n",
    "\n",
    "    params = [\n",
    "        layer2.thick,\n",
    "        layer2.rough,\n",
    "    ]\n",
    "    for param in params:\n",
    "        param.vary = True\n",
    "\n",
    "    sample = air  | layer2 | underlayer | substrate\n",
    "    return sample\n",
    "\n",
    "model = refnx_sample()\n",
    "sample = Sample(model)\n"
   ],
   "metadata": {
    "collapsed": false,
    "ExecuteTime": {
     "end_time": "2023-12-08T15:57:44.463207725Z",
     "start_time": "2023-12-08T15:57:43.370269998Z"
    }
   }
  },
  {
   "cell_type": "markdown",
   "source": [
    "Create a new sample:"
   ],
   "metadata": {
    "collapsed": false
   }
  },
  {
   "cell_type": "code",
   "execution_count": 2,
   "outputs": [],
   "source": [
    "def get_eigenval_sld(sample, angle_times, sld_n, sld_m):\n",
    "    sld_spins = [sld_n + sld_m, sld_n - sld_m]\n",
    "    qs, counts, models = [], [], []\n",
    "    for sld in sld_spins:\n",
    "        for layer in sample.structure:\n",
    "            if hasattr(layer, 'underlayer') and layer.underlayer:\n",
    "                layer.sld.real.value = sld\n",
    "        sim = SimulateReflectivity(sample.model, angle_times)\n",
    "        data = sim.simulate()\n",
    "        qs.append(data[0])\n",
    "        counts.append(data[3])\n",
    "        models.append(sample.model)\n",
    "\n",
    "    xi = sample.get_varying_parameters()\n",
    "    fisher = Fisher(qs, xi, counts, models)\n",
    "\n",
    "    return fisher.min_eigenval"
   ],
   "metadata": {
    "collapsed": false,
    "ExecuteTime": {
     "end_time": "2023-12-08T15:57:44.505630797Z",
     "start_time": "2023-12-08T15:57:44.503987703Z"
    }
   }
  },
  {
   "cell_type": "markdown",
   "source": [
    "Optimise\n",
    "\n"
   ],
   "metadata": {
    "collapsed": false
   }
  },
  {
   "cell_type": "code",
   "execution_count": 3,
   "outputs": [
    {
     "name": "stdout",
     "output_type": "stream",
     "text": [
      "0.719230056028121\n"
     ]
    }
   ],
   "source": [
    "def get_eigenval(sample, angle_times):\n",
    "    qs, counts, models = [], [], []\n",
    "    structure_old = sample.structure\n",
    "    for structure in sample.get_structures():\n",
    "        sample.structure = structure\n",
    "        sim = SimulateReflectivity(sample.model, angle_times)\n",
    "        data = sim.simulate()\n",
    "        qs.append(data[0])\n",
    "        counts.append(data[3])\n",
    "        models.append(sample.model)\n",
    "    sample.structure = structure_old\n",
    "    xi = sample.get_varying_parameters()\n",
    "    fisher = Fisher(qs, xi, counts, models)\n",
    "    return fisher.min_eigenval\n",
    "angle_times = [(0.7, 100, 10),\n",
    "               (2.3, 100, 40),]\n",
    "print(get_eigenval(sample, angle_times))"
   ],
   "metadata": {
    "collapsed": false,
    "ExecuteTime": {
     "end_time": "2023-12-08T15:57:44.512804233Z",
     "start_time": "2023-12-08T15:57:44.504316727Z"
    }
   }
  },
  {
   "cell_type": "code",
   "execution_count": 4,
   "outputs": [],
   "source": [
    "nsld_bounds = (-1, 5)\n",
    "msld_bounds = (0, 3)\n",
    "thick_bounds = (20,200)\n",
    "angle_times = [(0.7, 100, 10),\n",
    "               (2.3, 100, 40),\n",
    "               ]\n",
    "sample = Sample(model, bkg=1e-6)"
   ],
   "metadata": {
    "collapsed": false,
    "ExecuteTime": {
     "end_time": "2023-12-08T15:57:44.548753892Z",
     "start_time": "2023-12-08T15:57:44.504455432Z"
    }
   }
  },
  {
   "cell_type": "code",
   "execution_count": 5,
   "outputs": [
    {
     "name": "stdout",
     "output_type": "stream",
     "text": [
      "0.7451091428318559\n"
     ]
    }
   ],
   "source": [
    "print(get_eigenval(sample, angle_times))\n"
   ],
   "metadata": {
    "collapsed": false,
    "ExecuteTime": {
     "end_time": "2023-12-08T15:57:44.597112457Z",
     "start_time": "2023-12-08T15:57:44.515495161Z"
    }
   }
  },
  {
   "cell_type": "code",
   "execution_count": 6,
   "outputs": [],
   "source": [
    "new_structure = copy.deepcopy(sample.structure)\n",
    "structures = []\n",
    "\n",
    "for layer in new_structure:\n",
    "    if hasattr(layer, 'underlayer') and layer.underlayer:\n",
    "        spin_up_structure = copy.deepcopy(sample.structure)\n",
    "        spin_up_structure[new_structure.index(layer)] = layer.spin_up\n",
    "        structures.append(spin_up_structure)\n",
    "\n",
    "        spin_down_structure = copy.deepcopy(sample.structure)\n",
    "        spin_down_structure[new_structure.index(layer)] = layer.spin_down\n",
    "        structures.append(spin_down_structure)\n"
   ],
   "metadata": {
    "collapsed": false,
    "ExecuteTime": {
     "end_time": "2023-12-08T15:57:44.625715614Z",
     "start_time": "2023-12-08T15:57:44.557961536Z"
    }
   }
  },
  {
   "cell_type": "code",
   "execution_count": 7,
   "outputs": [
    {
     "ename": "RuntimeError",
     "evalue": "The map-like callable must be of the form f(func, iterable), returning a sequence of numbers the same length as 'iterable'",
     "output_type": "error",
     "traceback": [
      "\u001B[0;31m---------------------------------------------------------------------------\u001B[0m",
      "\u001B[0;31mRemoteTraceback\u001B[0m                           Traceback (most recent call last)",
      "\u001B[0;31mRemoteTraceback\u001B[0m: \n\"\"\"\nTraceback (most recent call last):\n  File \"/usr/lib/python3.11/multiprocessing/pool.py\", line 125, in worker\n    result = (True, func(*args, **kwds))\n                    ^^^^^^^^^^^^^^^^^^^\n  File \"/usr/lib/python3.11/multiprocessing/pool.py\", line 48, in mapstar\n    return list(map(*args))\n           ^^^^^^^^^^^^^^^^\n  File \"/home/sjoerd/Projekt/HOGBEN/venv/lib/python3.11/site-packages/scipy/_lib/_util.py\", line 360, in __call__\n    return self.f(x, *self.args)\n           ^^^^^^^^^^^^^^^^^^^^^\nTypeError: Value after * must be an iterable, not Sample\n\"\"\"",
      "\nThe above exception was the direct cause of the following exception:\n",
      "\u001B[0;31mTypeError\u001B[0m                                 Traceback (most recent call last)",
      "File \u001B[0;32m~/Projekt/HOGBEN/venv/lib/python3.11/site-packages/scipy/_lib/_util.py:430\u001B[0m, in \u001B[0;36mMapWrapper.__call__\u001B[0;34m(self, func, iterable)\u001B[0m\n\u001B[1;32m    429\u001B[0m \u001B[38;5;28;01mtry\u001B[39;00m:\n\u001B[0;32m--> 430\u001B[0m     \u001B[38;5;28;01mreturn\u001B[39;00m \u001B[38;5;28;43mself\u001B[39;49m\u001B[38;5;241;43m.\u001B[39;49m\u001B[43m_mapfunc\u001B[49m\u001B[43m(\u001B[49m\u001B[43mfunc\u001B[49m\u001B[43m,\u001B[49m\u001B[43m \u001B[49m\u001B[43miterable\u001B[49m\u001B[43m)\u001B[49m\n\u001B[1;32m    431\u001B[0m \u001B[38;5;28;01mexcept\u001B[39;00m \u001B[38;5;167;01mTypeError\u001B[39;00m \u001B[38;5;28;01mas\u001B[39;00m e:\n\u001B[1;32m    432\u001B[0m     \u001B[38;5;66;03m# wrong number of arguments\u001B[39;00m\n",
      "File \u001B[0;32m/usr/lib/python3.11/multiprocessing/pool.py:367\u001B[0m, in \u001B[0;36mPool.map\u001B[0;34m(self, func, iterable, chunksize)\u001B[0m\n\u001B[1;32m    363\u001B[0m \u001B[38;5;250m\u001B[39m\u001B[38;5;124;03m'''\u001B[39;00m\n\u001B[1;32m    364\u001B[0m \u001B[38;5;124;03mApply `func` to each element in `iterable`, collecting the results\u001B[39;00m\n\u001B[1;32m    365\u001B[0m \u001B[38;5;124;03min a list that is returned.\u001B[39;00m\n\u001B[1;32m    366\u001B[0m \u001B[38;5;124;03m'''\u001B[39;00m\n\u001B[0;32m--> 367\u001B[0m \u001B[38;5;28;01mreturn\u001B[39;00m \u001B[38;5;28;43mself\u001B[39;49m\u001B[38;5;241;43m.\u001B[39;49m\u001B[43m_map_async\u001B[49m\u001B[43m(\u001B[49m\u001B[43mfunc\u001B[49m\u001B[43m,\u001B[49m\u001B[43m \u001B[49m\u001B[43miterable\u001B[49m\u001B[43m,\u001B[49m\u001B[43m \u001B[49m\u001B[43mmapstar\u001B[49m\u001B[43m,\u001B[49m\u001B[43m \u001B[49m\u001B[43mchunksize\u001B[49m\u001B[43m)\u001B[49m\u001B[38;5;241;43m.\u001B[39;49m\u001B[43mget\u001B[49m\u001B[43m(\u001B[49m\u001B[43m)\u001B[49m\n",
      "File \u001B[0;32m/usr/lib/python3.11/multiprocessing/pool.py:774\u001B[0m, in \u001B[0;36mApplyResult.get\u001B[0;34m(self, timeout)\u001B[0m\n\u001B[1;32m    773\u001B[0m \u001B[38;5;28;01melse\u001B[39;00m:\n\u001B[0;32m--> 774\u001B[0m     \u001B[38;5;28;01mraise\u001B[39;00m \u001B[38;5;28mself\u001B[39m\u001B[38;5;241m.\u001B[39m_value\n",
      "\u001B[0;31mTypeError\u001B[0m: Value after * must be an iterable, not Sample",
      "\nThe above exception was the direct cause of the following exception:\n",
      "\u001B[0;31mTypeError\u001B[0m                                 Traceback (most recent call last)",
      "File \u001B[0;32m~/Projekt/HOGBEN/venv/lib/python3.11/site-packages/scipy/optimize/_differentialevolution.py:1147\u001B[0m, in \u001B[0;36mDifferentialEvolutionSolver._calculate_population_energies\u001B[0;34m(self, population)\u001B[0m\n\u001B[1;32m   1145\u001B[0m \u001B[38;5;28;01mtry\u001B[39;00m:\n\u001B[1;32m   1146\u001B[0m     calc_energies \u001B[38;5;241m=\u001B[39m \u001B[38;5;28mlist\u001B[39m(\n\u001B[0;32m-> 1147\u001B[0m         \u001B[38;5;28;43mself\u001B[39;49m\u001B[38;5;241;43m.\u001B[39;49m\u001B[43m_mapwrapper\u001B[49m\u001B[43m(\u001B[49m\u001B[38;5;28;43mself\u001B[39;49m\u001B[38;5;241;43m.\u001B[39;49m\u001B[43mfunc\u001B[49m\u001B[43m,\u001B[49m\u001B[43m \u001B[49m\u001B[43mparameters_pop\u001B[49m\u001B[43m[\u001B[49m\u001B[38;5;241;43m0\u001B[39;49m\u001B[43m:\u001B[49m\u001B[43mS\u001B[49m\u001B[43m]\u001B[49m\u001B[43m)\u001B[49m\n\u001B[1;32m   1148\u001B[0m     )\n\u001B[1;32m   1149\u001B[0m     calc_energies \u001B[38;5;241m=\u001B[39m np\u001B[38;5;241m.\u001B[39msqueeze(calc_energies)\n",
      "File \u001B[0;32m~/Projekt/HOGBEN/venv/lib/python3.11/site-packages/scipy/_lib/_util.py:433\u001B[0m, in \u001B[0;36mMapWrapper.__call__\u001B[0;34m(self, func, iterable)\u001B[0m\n\u001B[1;32m    431\u001B[0m \u001B[38;5;28;01mexcept\u001B[39;00m \u001B[38;5;167;01mTypeError\u001B[39;00m \u001B[38;5;28;01mas\u001B[39;00m e:\n\u001B[1;32m    432\u001B[0m     \u001B[38;5;66;03m# wrong number of arguments\u001B[39;00m\n\u001B[0;32m--> 433\u001B[0m     \u001B[38;5;28;01mraise\u001B[39;00m \u001B[38;5;167;01mTypeError\u001B[39;00m(\u001B[38;5;124m\"\u001B[39m\u001B[38;5;124mThe map-like callable must be of the\u001B[39m\u001B[38;5;124m\"\u001B[39m\n\u001B[1;32m    434\u001B[0m                     \u001B[38;5;124m\"\u001B[39m\u001B[38;5;124m form f(func, iterable)\u001B[39m\u001B[38;5;124m\"\u001B[39m) \u001B[38;5;28;01mfrom\u001B[39;00m \u001B[38;5;21;01me\u001B[39;00m\n",
      "\u001B[0;31mTypeError\u001B[0m: The map-like callable must be of the form f(func, iterable)",
      "\nThe above exception was the direct cause of the following exception:\n",
      "\u001B[0;31mRuntimeError\u001B[0m                              Traceback (most recent call last)",
      "Cell \u001B[0;32mIn[7], line 10\u001B[0m\n\u001B[1;32m      1\u001B[0m conditions \u001B[38;5;241m=\u001B[39m {\u001B[38;5;124m\"\u001B[39m\u001B[38;5;124mnsld_bounds\u001B[39m\u001B[38;5;124m\"\u001B[39m: nsld_bounds,\n\u001B[1;32m      2\u001B[0m               \u001B[38;5;124m\"\u001B[39m\u001B[38;5;124mmsld_bounds\u001B[39m\u001B[38;5;124m\"\u001B[39m: msld_bounds,\n\u001B[1;32m      3\u001B[0m               \u001B[38;5;124m\"\u001B[39m\u001B[38;5;124mthick_bounds\u001B[39m\u001B[38;5;124m\"\u001B[39m: (\u001B[38;5;241m10\u001B[39m, \u001B[38;5;241m150\u001B[39m),\n\u001B[1;32m      4\u001B[0m               \u001B[38;5;124m\"\u001B[39m\u001B[38;5;124msld_bounds\u001B[39m\u001B[38;5;124m\"\u001B[39m: (\u001B[38;5;241m0\u001B[39m, \u001B[38;5;241m10\u001B[39m),\n\u001B[1;32m      5\u001B[0m               \u001B[38;5;124m\"\u001B[39m\u001B[38;5;124mangle_times\u001B[39m\u001B[38;5;124m\"\u001B[39m: angle_times,\n\u001B[1;32m      6\u001B[0m               }\n\u001B[1;32m      7\u001B[0m optimiser \u001B[38;5;241m=\u001B[39m Optimiser(sample)\n\u001B[1;32m      9\u001B[0m sld_n, sld_m, val \u001B[38;5;241m=\u001B[39m \\\n\u001B[0;32m---> 10\u001B[0m     \u001B[43moptimiser\u001B[49m\u001B[38;5;241;43m.\u001B[39;49m\u001B[43moptimise_sld\u001B[49m\u001B[43m(\u001B[49m\u001B[43msample\u001B[49m\u001B[43m,\u001B[49m\u001B[43m \u001B[49m\u001B[43mconditions\u001B[49m\u001B[43m,\u001B[49m\n\u001B[1;32m     11\u001B[0m \u001B[43m                           \u001B[49m\u001B[43mverbose\u001B[49m\u001B[38;5;241;43m=\u001B[39;49m\u001B[38;5;28;43;01mFalse\u001B[39;49;00m\u001B[43m)\u001B[49m\n",
      "File \u001B[0;32m~/Projekt/HOGBEN/hogben/optimise.py:292\u001B[0m, in \u001B[0;36mOptimiser.optimise_sld\u001B[0;34m(self, sample, conditions, workers, verbose)\u001B[0m\n\u001B[1;32m    289\u001B[0m args \u001B[38;5;241m=\u001B[39m [sample, angle_times]\n\u001B[1;32m    291\u001B[0m \u001B[38;5;66;03m# Optimise underlayer thicknesses and SLDs, and return the results.\u001B[39;00m\n\u001B[0;32m--> 292\u001B[0m res, val \u001B[38;5;241m=\u001B[39m \u001B[43mOptimiser\u001B[49m\u001B[38;5;241;43m.\u001B[39;49m\u001B[43m__optimise\u001B[49m\u001B[43m(\u001B[49m\n\u001B[1;32m    293\u001B[0m \u001B[43m    \u001B[49m\u001B[38;5;28;43mself\u001B[39;49m\u001B[38;5;241;43m.\u001B[39;49m\u001B[43m_sld_func\u001B[49m\u001B[43m,\u001B[49m\u001B[43m \u001B[49m\u001B[43mbounds\u001B[49m\u001B[43m,\u001B[49m\u001B[43m \u001B[49m\u001B[43m[\u001B[49m\u001B[43m]\u001B[49m\u001B[43m,\u001B[49m\u001B[43m \u001B[49m\u001B[43margs\u001B[49m\u001B[43m,\u001B[49m\u001B[43m \u001B[49m\u001B[43mworkers\u001B[49m\u001B[43m,\u001B[49m\u001B[43m \u001B[49m\u001B[43mverbose\u001B[49m\n\u001B[1;32m    294\u001B[0m \u001B[43m\u001B[49m\u001B[43m)\u001B[49m\n\u001B[1;32m    295\u001B[0m \u001B[38;5;28;01mreturn\u001B[39;00m res[:num_underlayers], res[num_underlayers:], val\n",
      "File \u001B[0;32m~/Projekt/HOGBEN/hogben/optimise.py:490\u001B[0m, in \u001B[0;36mOptimiser.__optimise\u001B[0;34m(func, bounds, constraints, args, workers, verbose)\u001B[0m\n\u001B[1;32m    488\u001B[0m args \u001B[38;5;241m=\u001B[39m args[\u001B[38;5;241m0\u001B[39m]\n\u001B[1;32m    489\u001B[0m \u001B[38;5;66;03m# Run differential evolution on the given optimisation function.\u001B[39;00m\n\u001B[0;32m--> 490\u001B[0m res \u001B[38;5;241m=\u001B[39m \u001B[43mdifferential_evolution\u001B[49m\u001B[43m(\u001B[49m\u001B[43mfunc\u001B[49m\u001B[43m,\u001B[49m\u001B[43m \u001B[49m\u001B[43mbounds\u001B[49m\u001B[43m,\u001B[49m\u001B[43m \u001B[49m\u001B[43mconstraints\u001B[49m\u001B[38;5;241;43m=\u001B[39;49m\u001B[43mconstraints\u001B[49m\u001B[43m,\u001B[49m\n\u001B[1;32m    491\u001B[0m \u001B[43m                             \u001B[49m\u001B[43margs\u001B[49m\u001B[38;5;241;43m=\u001B[39;49m\u001B[43margs\u001B[49m\u001B[43m,\u001B[49m\u001B[43m \u001B[49m\u001B[43mpolish\u001B[49m\u001B[38;5;241;43m=\u001B[39;49m\u001B[38;5;28;43;01mFalse\u001B[39;49;00m\u001B[43m,\u001B[49m\u001B[43m \u001B[49m\u001B[43mtol\u001B[49m\u001B[38;5;241;43m=\u001B[39;49m\u001B[38;5;241;43m0.001\u001B[39;49m\u001B[43m,\u001B[49m\n\u001B[1;32m    492\u001B[0m \u001B[43m                             \u001B[49m\u001B[43mupdating\u001B[49m\u001B[38;5;241;43m=\u001B[39;49m\u001B[38;5;124;43m'\u001B[39;49m\u001B[38;5;124;43mdeferred\u001B[39;49m\u001B[38;5;124;43m'\u001B[39;49m\u001B[43m,\u001B[49m\u001B[43m \u001B[49m\u001B[43mworkers\u001B[49m\u001B[38;5;241;43m=\u001B[39;49m\u001B[43mworkers\u001B[49m\u001B[43m,\u001B[49m\n\u001B[1;32m    493\u001B[0m \u001B[43m                             \u001B[49m\u001B[43mdisp\u001B[49m\u001B[38;5;241;43m=\u001B[39;49m\u001B[43mverbose\u001B[49m\u001B[43m)\u001B[49m\n\u001B[1;32m    495\u001B[0m \u001B[38;5;28;01mreturn\u001B[39;00m res\u001B[38;5;241m.\u001B[39mx, res\u001B[38;5;241m.\u001B[39mfun\n",
      "File \u001B[0;32m~/Projekt/HOGBEN/venv/lib/python3.11/site-packages/scipy/optimize/_differentialevolution.py:402\u001B[0m, in \u001B[0;36mdifferential_evolution\u001B[0;34m(func, bounds, args, strategy, maxiter, popsize, tol, mutation, recombination, seed, callback, disp, polish, init, atol, updating, workers, constraints, x0, integrality, vectorized)\u001B[0m\n\u001B[1;32m    385\u001B[0m \u001B[38;5;66;03m# using a context manager means that any created Pool objects are\u001B[39;00m\n\u001B[1;32m    386\u001B[0m \u001B[38;5;66;03m# cleared up.\u001B[39;00m\n\u001B[1;32m    387\u001B[0m \u001B[38;5;28;01mwith\u001B[39;00m DifferentialEvolutionSolver(func, bounds, args\u001B[38;5;241m=\u001B[39margs,\n\u001B[1;32m    388\u001B[0m                                  strategy\u001B[38;5;241m=\u001B[39mstrategy,\n\u001B[1;32m    389\u001B[0m                                  maxiter\u001B[38;5;241m=\u001B[39mmaxiter,\n\u001B[0;32m   (...)\u001B[0m\n\u001B[1;32m    400\u001B[0m                                  integrality\u001B[38;5;241m=\u001B[39mintegrality,\n\u001B[1;32m    401\u001B[0m                                  vectorized\u001B[38;5;241m=\u001B[39mvectorized) \u001B[38;5;28;01mas\u001B[39;00m solver:\n\u001B[0;32m--> 402\u001B[0m     ret \u001B[38;5;241m=\u001B[39m \u001B[43msolver\u001B[49m\u001B[38;5;241;43m.\u001B[39;49m\u001B[43msolve\u001B[49m\u001B[43m(\u001B[49m\u001B[43m)\u001B[49m\n\u001B[1;32m    404\u001B[0m \u001B[38;5;28;01mreturn\u001B[39;00m ret\n",
      "File \u001B[0;32m~/Projekt/HOGBEN/venv/lib/python3.11/site-packages/scipy/optimize/_differentialevolution.py:1013\u001B[0m, in \u001B[0;36mDifferentialEvolutionSolver.solve\u001B[0;34m(self)\u001B[0m\n\u001B[1;32m   1008\u001B[0m     \u001B[38;5;28mself\u001B[39m\u001B[38;5;241m.\u001B[39mfeasible, \u001B[38;5;28mself\u001B[39m\u001B[38;5;241m.\u001B[39mconstraint_violation \u001B[38;5;241m=\u001B[39m (\n\u001B[1;32m   1009\u001B[0m         \u001B[38;5;28mself\u001B[39m\u001B[38;5;241m.\u001B[39m_calculate_population_feasibilities(\u001B[38;5;28mself\u001B[39m\u001B[38;5;241m.\u001B[39mpopulation))\n\u001B[1;32m   1011\u001B[0m     \u001B[38;5;66;03m# only work out population energies for feasible solutions\u001B[39;00m\n\u001B[1;32m   1012\u001B[0m     \u001B[38;5;28mself\u001B[39m\u001B[38;5;241m.\u001B[39mpopulation_energies[\u001B[38;5;28mself\u001B[39m\u001B[38;5;241m.\u001B[39mfeasible] \u001B[38;5;241m=\u001B[39m (\n\u001B[0;32m-> 1013\u001B[0m         \u001B[38;5;28;43mself\u001B[39;49m\u001B[38;5;241;43m.\u001B[39;49m\u001B[43m_calculate_population_energies\u001B[49m\u001B[43m(\u001B[49m\n\u001B[1;32m   1014\u001B[0m \u001B[43m            \u001B[49m\u001B[38;5;28;43mself\u001B[39;49m\u001B[38;5;241;43m.\u001B[39;49m\u001B[43mpopulation\u001B[49m\u001B[43m[\u001B[49m\u001B[38;5;28;43mself\u001B[39;49m\u001B[38;5;241;43m.\u001B[39;49m\u001B[43mfeasible\u001B[49m\u001B[43m]\u001B[49m\u001B[43m)\u001B[49m)\n\u001B[1;32m   1016\u001B[0m     \u001B[38;5;28mself\u001B[39m\u001B[38;5;241m.\u001B[39m_promote_lowest_energy()\n\u001B[1;32m   1018\u001B[0m \u001B[38;5;66;03m# do the optimization.\u001B[39;00m\n",
      "File \u001B[0;32m~/Projekt/HOGBEN/venv/lib/python3.11/site-packages/scipy/optimize/_differentialevolution.py:1153\u001B[0m, in \u001B[0;36mDifferentialEvolutionSolver._calculate_population_energies\u001B[0;34m(self, population)\u001B[0m\n\u001B[1;32m   1149\u001B[0m     calc_energies \u001B[38;5;241m=\u001B[39m np\u001B[38;5;241m.\u001B[39msqueeze(calc_energies)\n\u001B[1;32m   1150\u001B[0m \u001B[38;5;28;01mexcept\u001B[39;00m (\u001B[38;5;167;01mTypeError\u001B[39;00m, \u001B[38;5;167;01mValueError\u001B[39;00m) \u001B[38;5;28;01mas\u001B[39;00m e:\n\u001B[1;32m   1151\u001B[0m     \u001B[38;5;66;03m# wrong number of arguments for _mapwrapper\u001B[39;00m\n\u001B[1;32m   1152\u001B[0m     \u001B[38;5;66;03m# or wrong length returned from the mapper\u001B[39;00m\n\u001B[0;32m-> 1153\u001B[0m     \u001B[38;5;28;01mraise\u001B[39;00m \u001B[38;5;167;01mRuntimeError\u001B[39;00m(\n\u001B[1;32m   1154\u001B[0m         \u001B[38;5;124m\"\u001B[39m\u001B[38;5;124mThe map-like callable must be of the form f(func, iterable), \u001B[39m\u001B[38;5;124m\"\u001B[39m\n\u001B[1;32m   1155\u001B[0m         \u001B[38;5;124m\"\u001B[39m\u001B[38;5;124mreturning a sequence of numbers the same length as \u001B[39m\u001B[38;5;124m'\u001B[39m\u001B[38;5;124miterable\u001B[39m\u001B[38;5;124m'\u001B[39m\u001B[38;5;124m\"\u001B[39m\n\u001B[1;32m   1156\u001B[0m     ) \u001B[38;5;28;01mfrom\u001B[39;00m \u001B[38;5;21;01me\u001B[39;00m\n\u001B[1;32m   1158\u001B[0m \u001B[38;5;28;01mif\u001B[39;00m calc_energies\u001B[38;5;241m.\u001B[39msize \u001B[38;5;241m!=\u001B[39m S:\n\u001B[1;32m   1159\u001B[0m     \u001B[38;5;28;01mif\u001B[39;00m \u001B[38;5;28mself\u001B[39m\u001B[38;5;241m.\u001B[39mvectorized:\n",
      "\u001B[0;31mRuntimeError\u001B[0m: The map-like callable must be of the form f(func, iterable), returning a sequence of numbers the same length as 'iterable'"
     ]
    }
   ],
   "source": [
    "\n",
    "conditions = {\"nsld_bounds\": nsld_bounds,\n",
    "              \"msld_bounds\": msld_bounds,\n",
    "              \"thick_bounds\": (10, 150),\n",
    "              \"sld_bounds\": (0, 10),\n",
    "              \"angle_times\": angle_times,\n",
    "              }\n",
    "optimiser = Optimiser(sample)\n",
    "\n",
    "sld_n, sld_m, val = \\\n",
    "    optimiser.optimise_sld(sample, conditions,\n",
    "                           verbose=False)"
   ],
   "metadata": {
    "collapsed": false,
    "ExecuteTime": {
     "end_time": "2023-12-08T15:57:45.353175434Z",
     "start_time": "2023-12-08T15:57:44.598845787Z"
    }
   }
  },
  {
   "cell_type": "code",
   "execution_count": null,
   "outputs": [],
   "source": [
    "sld_n_range = nsld_bounds[1] - nsld_bounds[0]\n",
    "sld_m_range = msld_bounds[1] - msld_bounds[0]\n",
    "\n",
    "eigenval = []\n",
    "sld_n_array = []\n",
    "sld_m_array = []\n",
    "\n",
    "res = 25 # Set how fine the mesh should be\n",
    "\n",
    "for i in range(res):\n",
    "    sld_n = (sld_n_range/res)*(i+1) + nsld_bounds[0]\n",
    "    sld_n_array.append([])\n",
    "    sld_m_array.append([])\n",
    "    print(f\"{i+1}/{res}\")\n",
    "    for j in range(res):\n",
    "        sld_m = (sld_m_range/res)*(j+1) + msld_bounds[0]\n",
    "        sld_spins = [sld_n + sld_m, sld_n - sld_m]\n",
    "        min_eigenval = get_eigenval_sld(sample, angle_times, sld_n, sld_m)\n",
    "        eigenval.append(min_eigenval)\n",
    "        sld_n_array[i].append(sld_n)\n",
    "        sld_m_array[i].append(sld_m)"
   ],
   "metadata": {
    "collapsed": false,
    "ExecuteTime": {
     "start_time": "2023-12-08T15:57:45.379117205Z"
    }
   }
  },
  {
   "cell_type": "code",
   "execution_count": null,
   "outputs": [],
   "source": [
    "\n",
    "# Split the original array into chunks of 10 elements\n",
    "def get_eigenvals(eigenval, res, log=False):\n",
    "    chunks = []\n",
    "    for i in range(0, len(eigenval), res):\n",
    "        list_2 = eigenval[i:i+res]\n",
    "        new_list = []\n",
    "        for item in list_2:\n",
    "            if log:\n",
    "                item += 0.001\n",
    "                item = np.log(item)\n",
    "            new_list.append(item)\n",
    "        chunk = new_list\n",
    "\n",
    "        chunks.append(chunk)\n",
    "    return np.asarray(chunks)"
   ],
   "metadata": {
    "collapsed": false,
    "ExecuteTime": {
     "start_time": "2023-12-08T15:57:45.379249206Z"
    }
   }
  },
  {
   "cell_type": "code",
   "execution_count": null,
   "outputs": [],
   "source": [
    "chunks = get_eigenvals(eigenval, res, log=False)\n",
    "\n",
    "\n",
    "fig = plt.figure(figsize=[12, 9])\n",
    "from matplotlib import cm\n",
    "fig, ax = plt.subplots(subplot_kw={\"projection\": \"3d\"})\n",
    "\n",
    "x_label = 'Nuclear SLD'\n",
    "y_label = 'Magnetic SLD'\n",
    "z_label = 'Minimum Eigenvalue'\n",
    "ax.set_xlabel(x_label, fontsize=11, weight='bold')\n",
    "ax.set_ylabel(y_label, fontsize=11, weight='bold')\n",
    "ax.set_zlabel(z_label, fontsize=11, weight='bold')\n",
    "\n",
    "surface = ax.plot_surface(sld_n_array, sld_m_array, chunks,\n",
    "                       linewidth=0.1, antialiased=False, cmap=\"plasma\",\n",
    "                          edgecolors='black', alpha=0.8,\n",
    "                          )\n",
    "\n",
    "#surface = ax.plot_wireframe(sld_n_array, sld_m_array, chunks)\n",
    "ax.view_init(45, 45)\n"
   ],
   "metadata": {
    "collapsed": false,
    "ExecuteTime": {
     "end_time": "2023-12-08T15:57:45.397027816Z",
     "start_time": "2023-12-08T15:57:45.379315067Z"
    }
   }
  },
  {
   "cell_type": "code",
   "execution_count": null,
   "outputs": [],
   "source": [
    "fig, ax = plt.subplots()\n",
    "chunks = get_eigenvals(eigenval, res, log=True)\n",
    "\n",
    "CS = ax.contourf(sld_n_array, sld_m_array, chunks, 400, cmap=\"plasma\")\n",
    "ax.set_xlabel(x_label, fontsize=11, weight='bold')\n",
    "ax.set_ylabel(y_label, fontsize=11, weight='bold')\n",
    "CB = fig.colorbar(CS)"
   ],
   "metadata": {
    "collapsed": false,
    "ExecuteTime": {
     "start_time": "2023-12-08T15:57:45.379374153Z"
    }
   }
  },
  {
   "cell_type": "code",
   "execution_count": null,
   "outputs": [],
   "source": [
    "chunks = get_eigenvals(eigenval, res, log=False)\n",
    "\n",
    "max_a = 0\n",
    "i = 0\n",
    "for a in chunks:\n",
    "    if max(a) > max_a:\n",
    "        max_a = max(a)\n",
    "        j = i\n",
    "    i+= 1\n",
    "fig, ax = plt.subplots()\n",
    "j = 0\n",
    "ax.set_xlabel('Magnetic SLD (Å)', fontsize = 14)\n",
    "ax.set_ylabel('Minimum Eigenvalue', fontsize = 14)\n",
    "ax.set_title(f\"Nuclear SLD= {sld_n_array[j][-1]}\")\n",
    "ax.plot(sld_m_array[j], chunks[j])"
   ],
   "metadata": {
    "collapsed": false,
    "ExecuteTime": {
     "start_time": "2023-12-08T15:57:45.379430026Z"
    }
   }
  },
  {
   "cell_type": "code",
   "execution_count": null,
   "outputs": [],
   "source": [
    "chunks = get_eigenvals(eigenval, res, log=False)\n",
    "\n",
    "chunks_n = [[] for _ in range(res)]\n",
    "for chunk in chunks:\n",
    "    for index2, value in enumerate(chunk):\n",
    "        chunks_n[index2].append(value)\n",
    "\n",
    "j = 0\n",
    "max_a = 0\n",
    "i = 0\n",
    "\n",
    "for a in chunks_n:\n",
    "    if max(a) > max_a:\n",
    "        max_a = max(a)\n",
    "        j = i\n",
    "    i+= 1"
   ],
   "metadata": {
    "collapsed": false,
    "ExecuteTime": {
     "start_time": "2023-12-08T15:57:45.379469067Z"
    }
   }
  },
  {
   "cell_type": "code",
   "execution_count": null,
   "outputs": [],
   "source": [
    "fig, ax = plt.subplots()\n",
    "\n",
    "j = 0\n",
    "ax.set_xlabel('Nuclear SLD (Å)', fontsize = 14)\n",
    "ax.set_ylabel('Minimum Eigenvalue', fontsize = 14)\n",
    "ax.set_title(f\"Magnetic SLD= {sld_m_array[j][j]}\")\n",
    "\n",
    "\n",
    "sld_n_list = []\n",
    "for array in sld_n_array:\n",
    "    sld_n_list.append(array[0])\n",
    "ax.plot(sld_n_list, chunks_n[j])"
   ],
   "metadata": {
    "collapsed": false,
    "ExecuteTime": {
     "start_time": "2023-12-08T15:57:45.379510204Z"
    }
   }
  },
  {
   "cell_type": "code",
   "execution_count": null,
   "outputs": [],
   "source": [],
   "metadata": {
    "collapsed": false,
    "ExecuteTime": {
     "start_time": "2023-12-08T15:57:45.379572224Z"
    }
   }
  },
  {
   "cell_type": "code",
   "execution_count": null,
   "outputs": [],
   "source": [
    "import matplotlib.pyplot as plt\n",
    "\n",
    "# Create some example data\n",
    "x = [1, 2, 3, 4, 5]\n",
    "y = [2, 4, 6, 8, 10]\n",
    "\n",
    "# Create a figure and axis\n",
    "fig, ax = plt.subplots()\n",
    "\n",
    "# Plot the data\n",
    "ax.plot(x, y)\n",
    "\n",
    "# Customize the appearance of the spines\n",
    "ax.spines['left'].set_linewidth(1.25)    # Set left y-axis spine to be thick\n",
    "ax.spines['right'].set_linewidth(0.5)  # Set right y-axis spine to be thin\n",
    "ax.spines['bottom'].set_linewidth(1.25) # Set bottom x-axis spine to be thin\n",
    "ax.spines['top'].set_linewidth(0.5)    # Set top x-axis spine to be thin\n",
    "\n",
    "# Show the plot\n",
    "plt.show()"
   ],
   "metadata": {
    "collapsed": false,
    "ExecuteTime": {
     "start_time": "2023-12-08T15:57:45.379683202Z"
    }
   }
  },
  {
   "cell_type": "code",
   "execution_count": null,
   "outputs": [],
   "source": [],
   "metadata": {
    "collapsed": false,
    "ExecuteTime": {
     "start_time": "2023-12-08T15:57:45.380041559Z"
    }
   }
  },
  {
   "cell_type": "code",
   "execution_count": null,
   "outputs": [],
   "source": [],
   "metadata": {
    "collapsed": false,
    "ExecuteTime": {
     "start_time": "2023-12-08T15:57:45.400000625Z"
    }
   }
  }
 ],
 "metadata": {
  "kernelspec": {
   "display_name": "Python 3",
   "language": "python",
   "name": "python3"
  },
  "language_info": {
   "codemirror_mode": {
    "name": "ipython",
    "version": 2
   },
   "file_extension": ".py",
   "mimetype": "text/x-python",
   "name": "python",
   "nbconvert_exporter": "python",
   "pygments_lexer": "ipython2",
   "version": "2.7.6"
  }
 },
 "nbformat": 4,
 "nbformat_minor": 0
}
