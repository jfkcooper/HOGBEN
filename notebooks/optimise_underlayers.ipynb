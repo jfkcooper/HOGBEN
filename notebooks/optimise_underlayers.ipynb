{
 "cells": [
  {
   "cell_type": "markdown",
   "source": [
    "# Experimental Design\n",
    "***\n",
    "## Optimising underlayers\n",
    "\n",
    "Import the necessary libraries"
   ],
   "metadata": {
    "collapsed": false
   }
  },
  {
   "cell_type": "code",
   "execution_count": null,
   "outputs": [],
   "source": [
    "import copy\n",
    "%matplotlib inline\n",
    "\n",
    "from hogben.models.samples import Sample, UnderLayer\n",
    "import numpy as np\n",
    "from hogben.optimise import Optimiser\n",
    "from hogben.utils import Fisher\n",
    "from refnx.reflect import SLD\n",
    "\n",
    "import matplotlib.pyplot as plt\n",
    "from hogben.simulate import simulate\n",
    "\n",
    "def refnx_sample():\n",
    "    \"\"\"Define a bilayer sample, and return the associated refnx model\"\"\"\n",
    "    # Define sample\n",
    "    air = SLD(0, name='Air')\n",
    "    layer2 = SLD(6, name='Layer 2')(thick=104, rough=8)\n",
    "    substrate = SLD(2, name='Substrate')(thick=0, rough=5)\n",
    "    underlayer = UnderLayer()\n",
    "    layer2.thick.bounds = (10, 30)\n",
    "    layer2.rough.bounds = (4, 10)\n",
    "\n",
    "    params = [\n",
    "        layer2.thick,\n",
    "        layer2.rough,\n",
    "    ]\n",
    "    for param in params:\n",
    "        param.vary = True\n",
    "\n",
    "    sample = air  | layer2 | underlayer | substrate\n",
    "    return sample\n",
    "\n",
    "model = refnx_sample()"
   ],
   "metadata": {
    "collapsed": false
   }
  },
  {
   "cell_type": "markdown",
   "source": [
    "Create a new sample:"
   ],
   "metadata": {
    "collapsed": false
   }
  },
  {
   "cell_type": "markdown",
   "source": [],
   "metadata": {
    "collapsed": false
   }
  },
  {
   "cell_type": "code",
   "execution_count": null,
   "outputs": [],
   "source": [
    "def get_eigenval_sld(sample, angle_times, sld_n, sld_m):\n",
    "    sld_spins = [sld_n + sld_m, sld_n - sld_m]\n",
    "    qs, counts, models = [], [], []\n",
    "    for sld in sld_spins:\n",
    "        for layer in sample.structure:\n",
    "            if hasattr(layer, 'underlayer') and layer.underlayer:\n",
    "                layer.sld.real.value = sld\n",
    "        model, data = simulate(\n",
    "            sample.structure, angle_times, scale=sample.scale,\n",
    "            bkg=sample.bkg,\n",
    "            dq=sample.dq\n",
    "        )\n",
    "        qs.append(data[:, 0])\n",
    "        counts.append(data[:, 3])\n",
    "        models.append(model)\n",
    "    xi = sample.get_varying_parameters()\n",
    "    fisher = Fisher(qs, xi, counts, models)\n",
    "\n",
    "    return fisher.min_eigenval"
   ],
   "metadata": {
    "collapsed": false
   }
  },
  {
   "cell_type": "markdown",
   "source": [
    "Optimise\n",
    "\n"
   ],
   "metadata": {
    "collapsed": false
   }
  },
  {
   "cell_type": "code",
   "execution_count": null,
   "outputs": [],
   "source": [
    "nsld_bounds = (-1, 5)\n",
    "msld_bounds = (0, 3)\n",
    "thick_bounds = (20,200)\n",
    "angle_times = [(0.7, 100, 10),\n",
    "               (2.3, 100, 40),\n",
    "               ]\n",
    "sample = Sample(model, bkg=1e-6)"
   ],
   "metadata": {
    "collapsed": false
   }
  },
  {
   "cell_type": "code",
   "execution_count": null,
   "outputs": [],
   "source": [
    "angle_times2 = [(0.7, 100, 20),\n",
    "               (2.3, 100, 80),\n",
    "               ]\n",
    "print(type(sample.structure))\n",
    "print(Fisher.from_sample(sample, angle_times2).min_eigenval)\n"
   ],
   "metadata": {
    "collapsed": false
   }
  },
  {
   "cell_type": "code",
   "execution_count": null,
   "outputs": [],
   "source": [
    "\n",
    "conditions = {\"nsld_bounds\": nsld_bounds,\n",
    "              \"msld_bounds\": msld_bounds,\n",
    "              \"thick_bounds\": (10, 150),\n",
    "              \"sld_bounds\": (0, 10),\n",
    "              \"angle_times\": angle_times,\n",
    "              }\n",
    "optimiser = Optimiser(sample)\n",
    "\n",
    "sld_n, sld_m, val = \\\n",
    "    optimiser.optimise_sld(sample, conditions,\n",
    "                           verbose=False)"
   ],
   "metadata": {
    "collapsed": false
   }
  },
  {
   "cell_type": "code",
   "execution_count": null,
   "outputs": [],
   "source": [
    "eigenval = get_eigenval_sld(sample, angle_times, sld_n, sld_m)\n",
    "eigenval2 = get_eigenval_sld(sample, angle_times, sld_n, sld_m)\n"
   ],
   "metadata": {
    "collapsed": false
   }
  },
  {
   "cell_type": "code",
   "execution_count": null,
   "outputs": [],
   "source": [
    "sld_n_range = nsld_bounds[1] - nsld_bounds[0]\n",
    "sld_m_range = msld_bounds[1] - msld_bounds[0]\n",
    "\n",
    "eigenval = []\n",
    "sld_n_array = []\n",
    "sld_m_array = []\n",
    "\n",
    "res = 25 # Set how fine the mesh should be\n",
    "new_sample = copy.deepcopy(sample)\n",
    "new_sample.structure = new_sample.with_underlayer()\n",
    "\n",
    "for i in range(res):\n",
    "    sld_n = (sld_n_range/res)*(i+1) + nsld_bounds[0]\n",
    "    sld_n_array.append([])\n",
    "    sld_m_array.append([])\n",
    "    print(f\"{i+1}/{res}\")\n",
    "    for j in range(res):\n",
    "        sld_m = (sld_m_range/res)*(j+1) + msld_bounds[0]\n",
    "        sld_spins = [sld_n + sld_m, sld_n - sld_m]\n",
    "        min_eigenval = get_eigenval_sld(new_sample, angle_times, sld_n, sld_m)\n",
    "        eigenval.append(min_eigenval)\n",
    "        sld_n_array[i].append(sld_n)\n",
    "        sld_m_array[i].append(sld_m)"
   ],
   "metadata": {
    "collapsed": false
   }
  },
  {
   "cell_type": "code",
   "execution_count": null,
   "outputs": [],
   "source": [
    "eigenval_new = get_eigenval_sld(sample, angle_times, -0.75, 1.1)\n",
    "print(eigenval_new)\n",
    "\n",
    "angle_times2 = [(0.7, 100, 20),\n",
    "               (2.3, 100, 80),\n",
    "               ]\n",
    "\n",
    "print(Fisher.from_sample(sample, angle_times2).min_eigenval)\n"
   ],
   "metadata": {
    "collapsed": false
   }
  },
  {
   "cell_type": "code",
   "execution_count": null,
   "outputs": [],
   "source": [
    "eigenval_new = get_eigenval_sld(sample, angle_times, -0.75, 1.1)\n",
    "print(eigenval_new)\n",
    "print(angle_times)\n"
   ],
   "metadata": {
    "collapsed": false
   }
  },
  {
   "cell_type": "code",
   "execution_count": null,
   "outputs": [],
   "source": [
    "\n",
    "# Split the original array into chunks of 10 elements\n",
    "def get_eigenvals(eigenval, res, log=False):\n",
    "    chunks = []\n",
    "    for i in range(0, len(eigenval), res):\n",
    "        list_2 = eigenval[i:i+res]\n",
    "        new_list = []\n",
    "        for item in list_2:\n",
    "            if log:\n",
    "                item += 0.001\n",
    "                item = np.log(item)\n",
    "            new_list.append(item)\n",
    "        chunk = new_list\n",
    "\n",
    "        chunks.append(chunk)\n",
    "    return np.asarray(chunks)"
   ],
   "metadata": {
    "collapsed": false
   }
  },
  {
   "cell_type": "code",
   "execution_count": null,
   "outputs": [],
   "source": [
    "chunks = get_eigenvals(eigenval, res, log=False)\n",
    "\n",
    "\n",
    "fig = plt.figure(figsize=[12, 9])\n",
    "from matplotlib import cm\n",
    "fig, ax = plt.subplots(subplot_kw={\"projection\": \"3d\"})\n",
    "\n",
    "x_label = 'Nuclear SLD'\n",
    "y_label = 'Magnetic SLD'\n",
    "z_label = 'Minimum Eigenvalue'\n",
    "ax.set_xlabel(x_label, fontsize=11, weight='bold')\n",
    "ax.set_ylabel(y_label, fontsize=11, weight='bold')\n",
    "ax.set_zlabel(z_label, fontsize=11, weight='bold')\n",
    "\n",
    "surface = ax.plot_surface(sld_n_array, sld_m_array, chunks,\n",
    "                       linewidth=0.1, antialiased=False, cmap=\"plasma\",\n",
    "                          edgecolors='black', alpha=0.8,\n",
    "                          )\n",
    "\n",
    "#surface = ax.plot_wireframe(sld_n_array, sld_m_array, chunks)\n",
    "ax.view_init(45, 45)\n"
   ],
   "metadata": {
    "collapsed": false
   }
  },
  {
   "cell_type": "code",
   "execution_count": null,
   "outputs": [],
   "source": [
    "fig, ax = plt.subplots()\n",
    "chunks = get_eigenvals(eigenval, res, log=True)\n",
    "\n",
    "CS = ax.contourf(sld_n_array, sld_m_array, chunks, 400, cmap=\"plasma\")\n",
    "ax.set_xlabel(x_label, fontsize=11, weight='bold')\n",
    "ax.set_ylabel(y_label, fontsize=11, weight='bold')\n",
    "CB = fig.colorbar(CS)"
   ],
   "metadata": {
    "collapsed": false
   }
  },
  {
   "cell_type": "code",
   "execution_count": null,
   "outputs": [],
   "source": [
    "chunks = get_eigenvals(eigenval, res, log=False)\n",
    "\n",
    "max_a = 0\n",
    "i = 0\n",
    "for a in chunks:\n",
    "    if max(a) > max_a:\n",
    "        max_a = max(a)\n",
    "        j = i\n",
    "    i+= 1\n",
    "print(max_a)\n",
    "print(sld_n_array[j][0])\n",
    "fig, ax = plt.subplots()\n",
    "j = 0\n",
    "print(sld_n_array[0][-1])\n",
    "ax.set_xlabel('Magnetic SLD (Å)', fontsize = 14)\n",
    "ax.set_ylabel('Minimum Eigenvalue', fontsize = 14)\n",
    "ax.set_title(f\"Nuclear SLD= {sld_n_array[j][-1]}\")\n",
    "ax.plot(sld_m_array[j], chunks[j])\n",
    "min(chunks[j])"
   ],
   "metadata": {
    "collapsed": false
   }
  },
  {
   "cell_type": "code",
   "execution_count": null,
   "outputs": [],
   "source": [
    "chunks = get_eigenvals(eigenval, res, log=False)\n",
    "\n",
    "chunks_n = [[] for _ in range(res)]\n",
    "for chunk in chunks:\n",
    "    for index2, value in enumerate(chunk):\n",
    "        chunks_n[index2].append(value)\n",
    "\n",
    "j = 0\n",
    "max_a = 0\n",
    "i = 0\n",
    "\n",
    "for a in chunks_n:\n",
    "    if max(a) > max_a:\n",
    "        max_a = max(a)\n",
    "        j = i\n",
    "    i+= 1"
   ],
   "metadata": {
    "collapsed": false
   }
  },
  {
   "cell_type": "code",
   "execution_count": null,
   "outputs": [],
   "source": [
    "#print(sld_m_array[7])"
   ],
   "metadata": {
    "collapsed": false
   }
  },
  {
   "cell_type": "code",
   "execution_count": null,
   "outputs": [],
   "source": [
    "fig, ax = plt.subplots()\n",
    "\n",
    "j = 0\n",
    "ax.set_xlabel('Nuclear SLD (Å)', fontsize = 14)\n",
    "ax.set_ylabel('Minimum Eigenvalue', fontsize = 14)\n",
    "ax.set_title(f\"Magnetic SLD= {sld_m_array[j][j]}\")\n",
    "\n",
    "\n",
    "sld_n_list = []\n",
    "for array in sld_n_array:\n",
    "    sld_n_list.append(array[0])\n",
    "print(sld_n_list)\n",
    "ax.plot(sld_n_list, chunks_n[j])\n",
    "print(j)"
   ],
   "metadata": {
    "collapsed": false
   }
  },
  {
   "cell_type": "code",
   "execution_count": null,
   "outputs": [],
   "source": [],
   "metadata": {
    "collapsed": false
   }
  },
  {
   "cell_type": "code",
   "execution_count": null,
   "outputs": [],
   "source": [
    "import matplotlib.pyplot as plt\n",
    "\n",
    "# Create some example data\n",
    "x = [1, 2, 3, 4, 5]\n",
    "y = [2, 4, 6, 8, 10]\n",
    "\n",
    "# Create a figure and axis\n",
    "fig, ax = plt.subplots()\n",
    "\n",
    "# Plot the data\n",
    "ax.plot(x, y)\n",
    "\n",
    "# Customize the appearance of the spines\n",
    "ax.spines['left'].set_linewidth(1.25)    # Set left y-axis spine to be thick\n",
    "ax.spines['right'].set_linewidth(0.5)  # Set right y-axis spine to be thin\n",
    "ax.spines['bottom'].set_linewidth(1.25) # Set bottom x-axis spine to be thin\n",
    "ax.spines['top'].set_linewidth(0.5)    # Set top x-axis spine to be thin\n",
    "\n",
    "# Show the plot\n",
    "plt.show()"
   ],
   "metadata": {
    "collapsed": false
   }
  },
  {
   "cell_type": "code",
   "execution_count": null,
   "outputs": [],
   "source": [],
   "metadata": {
    "collapsed": false
   }
  },
  {
   "cell_type": "code",
   "execution_count": null,
   "outputs": [],
   "source": [],
   "metadata": {
    "collapsed": false
   }
  }
 ],
 "metadata": {
  "kernelspec": {
   "display_name": "Python 3",
   "language": "python",
   "name": "python3"
  },
  "language_info": {
   "codemirror_mode": {
    "name": "ipython",
    "version": 2
   },
   "file_extension": ".py",
   "mimetype": "text/x-python",
   "name": "python",
   "nbconvert_exporter": "python",
   "pygments_lexer": "ipython2",
   "version": "2.7.6"
  }
 },
 "nbformat": 4,
 "nbformat_minor": 0
}
