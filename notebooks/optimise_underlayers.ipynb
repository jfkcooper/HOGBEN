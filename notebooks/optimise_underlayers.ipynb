{
 "cells": [
  {
   "cell_type": "markdown",
   "source": [
    "# Experimental Design\n",
    "***\n",
    "## Optimising underlayers\n",
    "\n",
    "Import the neccesary libraries"
   ],
   "metadata": {
    "collapsed": false
   }
  },
  {
   "cell_type": "code",
   "execution_count": null,
   "outputs": [],
   "source": [
    "%matplotlib inline\n",
    "\n",
    "from hogben.models.samples import Sample\n",
    "\n",
    "from hogben.optimise import Optimiser\n",
    "from hogben.utils import Fisher\n",
    "from refnx.reflect import SLD\n",
    "\n",
    "import matplotlib.pyplot as plt\n",
    "\n",
    "def refnx_sample():\n",
    "    \"\"\"Define a bilayer sample, and return the associated refnx model\"\"\"\n",
    "    # Define sample\n",
    "    air = SLD(0, name='Air')\n",
    "    layer1 = SLD(4, name='Layer 1')(thick=45, rough=8)\n",
    "    layer2 = SLD(6, name='Layer 2')(thick=25, rough=8)\n",
    "    layer3 = SLD(3, name='Layer 3')(thick=80, rough=7)\n",
    "    substrate = SLD(2.047, name='Substrate')(thick=0, rough=5)\n",
    "\n",
    "    layer1.thick.bounds = (20, 60)\n",
    "    layer2.thick.bounds = (10, 30)\n",
    "    layer3.thick.bounds = (40, 100)\n",
    "    layer1.rough.bounds = (4, 10)\n",
    "    layer2.rough.bounds = (4, 10)\n",
    "    layer3.rough.bounds = (4, 10)\n",
    "\n",
    "    params = [\n",
    "        layer1.thick,\n",
    "        layer2.thick,\n",
    "        layer1.rough,\n",
    "        layer2.rough,\n",
    "        layer3.rough,\n",
    "        layer3.thick,\n",
    "    ]\n",
    "    for param in params:\n",
    "        param.vary = True\n",
    "\n",
    "    layer3.underlayer = True\n",
    "    sample = air  | layer1 | layer2 | layer3 | substrate\n",
    "    return sample\n",
    "\n",
    "model = refnx_sample()"
   ],
   "metadata": {
    "collapsed": false
   }
  },
  {
   "cell_type": "markdown",
   "source": [
    "Create a new sample:"
   ],
   "metadata": {
    "collapsed": false
   }
  },
  {
   "cell_type": "code",
   "execution_count": null,
   "outputs": [],
   "source": [
    "sample = Sample(model)"
   ],
   "metadata": {
    "collapsed": false
   }
  },
  {
   "cell_type": "markdown",
   "source": [
    "Optimise\n",
    "\n"
   ],
   "metadata": {
    "collapsed": false
   }
  },
  {
   "cell_type": "code",
   "execution_count": null,
   "outputs": [],
   "source": [
    "# Number of points and counting times for each angle to simulate.\n",
    "angle_times = [(0.7, 100, 10),\n",
    "               (2.3, 100, 40)]\n",
    "thick_bounds = (1, 150)\n",
    "sld_bounds = (1, 7)\n",
    "\n",
    "conditions = {\"thick_bounds\": thick_bounds,\n",
    "              \"sld_bounds\": sld_bounds,\n",
    "              \"angle_times\": angle_times}\n",
    "\n",
    "sample = Sample(model)\n",
    "optimiser = Optimiser(sample)\n",
    "thicknesses, slds, val = \\\n",
    "    optimiser.optimise_underlayer_experiment(sample, conditions,\n",
    "                                             verbose=False)\n",
    "print(thicknesses)\n",
    "print(slds)"
   ],
   "metadata": {
    "collapsed": false
   }
  },
  {
   "cell_type": "code",
   "execution_count": null,
   "outputs": [],
   "source": [
    "\n",
    "thick_range = thick_bounds[1] - thick_bounds[0]\n",
    "sld_range = sld_bounds[1] - sld_bounds[0]\n",
    "\n",
    "eigenval = []\n",
    "thicknessrange = []\n",
    "\n",
    "i = 0\n",
    "\n",
    "for layer in sample.structure:\n",
    "    if hasattr(layer, 'underlayer') and layer.underlayer:\n",
    "        layer.thick.value = thicknesses[i]\n",
    "        layer.sld.real.value = slds[i]\n",
    "\n",
    "        for j in range(150):\n",
    "            thick = (thick_range/150)*j + thick_bounds[0]\n",
    "            thicknessrange.append(thick)\n",
    "            layer.thick.value = thick\n",
    "            min_eigenval = Fisher.from_sample(sample, angle_times).min_eigenval\n",
    "            eigenval.append(min_eigenval)\n",
    "        i += 1\n",
    "\n",
    "\n",
    "fig = plt.figure()\n",
    "ax = fig.add_subplot(111)\n",
    "ax.plot(thicknessrange, eigenval)\n",
    "ax.set_xlabel('Underlayer thickness (Å)', fontsize = 14)\n",
    "ax.set_ylabel('Minimum Eigenvalue', fontsize = 14)\n",
    "plt.show()\n",
    "\n",
    "eigenval = []\n",
    "sldarray = []\n",
    "\n",
    "i = 0\n",
    "for layer in sample.structure:\n",
    "    if hasattr(layer, 'underlayer') and layer.underlayer:\n",
    "        layer.thick.value = thicknesses[i]\n",
    "        layer.sld.real.value = slds[i]\n",
    "\n",
    "        for j in range(150):\n",
    "            sld = (sld_range/150)*j + sld_bounds[0]\n",
    "            sldarray.append(sld)\n",
    "            layer.sld.real.value = sld\n",
    "            min_eigenval = Fisher.from_sample(sample, angle_times).min_eigenval\n",
    "            eigenval.append(min_eigenval)\n",
    "\n",
    "fig = plt.figure()\n",
    "ax = fig.add_subplot(111)\n",
    "ax.plot(sldarray, eigenval)\n",
    "ax.set_xlabel('SLD Value (10$^{-6}$ Å$^{-2})$', fontsize = 14)\n",
    "ax.set_ylabel('Minimum Eigenvalue ', fontsize = 14)\n",
    "plt.show()\n",
    "plt.savefig(\"sld.png\")"
   ],
   "metadata": {
    "collapsed": false
   }
  },
  {
   "cell_type": "code",
   "execution_count": null,
   "outputs": [],
   "source": [
    "for condition, values in conditions.items():\n",
    "    if condition == \"angle_times\":\n",
    "        continue\n",
    "    eigenval = []\n",
    "    values_array = []\n",
    "    value_range = values[1] - values[0]\n",
    "    i = 0\n",
    "    for layer in sample.structure:\n",
    "        if hasattr(layer, 'underlayer') and layer.underlayer:\n",
    "            layer.thick.value = thicknesses[i]\n",
    "            layer.sld.real.value = slds[i]\n",
    "            for j in range(150):\n",
    "                value = (value_range/150)*j + values[0]\n",
    "                values_array.append(value)\n",
    "                if condition == \"thick_bounds\":\n",
    "                    layer.thick.value = value\n",
    "                    xlabel = 'Underlayer thickness (Å)'\n",
    "                elif condition == \"sld_bounds\":\n",
    "                    layer.sld.real.value = value\n",
    "                    xlabel = 'SLD Value (10$^{-6}$ Å$^{-2})$'\n",
    "                min_eigenval = Fisher.from_sample(sample, angle_times).min_eigenval\n",
    "                eigenval.append(min_eigenval)\n",
    "            i += 1\n",
    "    fig = plt.figure()\n",
    "    ax = fig.add_subplot(111)\n",
    "    ax.plot(values_array, eigenval)\n",
    "    ax.set_xlabel('SLD Value (10$^{-6}$ Å$^{-2})$', fontsize = 14)\n",
    "    ax.set_ylabel('Minimum Eigenvalue ', fontsize = 14)\n",
    "    plt.show()"
   ],
   "metadata": {
    "collapsed": false
   }
  },
  {
   "cell_type": "code",
   "execution_count": null,
   "outputs": [],
   "source": [],
   "metadata": {
    "collapsed": false
   }
  },
  {
   "cell_type": "code",
   "execution_count": null,
   "outputs": [],
   "source": [],
   "metadata": {
    "collapsed": false
   }
  }
 ],
 "metadata": {
  "kernelspec": {
   "display_name": "Python 3",
   "language": "python",
   "name": "python3"
  },
  "language_info": {
   "codemirror_mode": {
    "name": "ipython",
    "version": 2
   },
   "file_extension": ".py",
   "mimetype": "text/x-python",
   "name": "python",
   "nbconvert_exporter": "python",
   "pygments_lexer": "ipython2",
   "version": "2.7.6"
  }
 },
 "nbformat": 4,
 "nbformat_minor": 0
}
