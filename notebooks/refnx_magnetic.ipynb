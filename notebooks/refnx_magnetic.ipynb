{
 "cells": [
  {
   "cell_type": "code",
   "execution_count": null,
   "id": "initial_id",
   "metadata": {
    "collapsed": true
   },
   "outputs": [],
   "source": [
    "%matplotlib inline\n",
    "\n",
    "import refnx\n",
    "from refnx.reflect import SLD\n",
    "from refnx.analysis import Parameter\n",
    "from hogben.models.samples import Sample, MagneticLayerSLD\n",
    "\n",
    "def simple_sample():\n",
    "    \"\"\"Define a bilayer sample, and return the associated refnx model\"\"\"\n",
    "    # Define sample\n",
    "\n",
    "    layer1_thick = Parameter(50, 'Layer1 thickness', (30, 150))\n",
    "    layer2_thick = Parameter(40, 'Layer2 thickness', (30, 150))\n",
    "    layer1_rough = Parameter(5, 'Layer1 Roughness', (2, 10))\n",
    "    layer2_rough = Parameter(6, 'Layer2 roughness', (2, 10))\n",
    "\n",
    "    ul_thick = Parameter(35, 'Underlayer Thickness', (35, 350))\n",
    "    ul_nsld = Parameter(2, 'Underlayer Nuclear SLD', (1.5, 7))\n",
    "    ul_msld = Parameter(2, 'Underlayer Magnetic SLD', (0, 6))    \n",
    "\n",
    "    air = refnx.reflect.SLD(0, name='Air')    \n",
    "    layer1 = refnx.reflect.SLD(3, name=\"Layer 1\")(thick=layer1_thick, rough=layer1_rough)\n",
    "    layer2 = refnx.reflect.SLD(-0.5, name=\"Layer 2\")(thick=layer2_thick, rough=layer2_rough)\n",
    "\n",
    "    underlayer = MagneticLayerSLD(SLDn=ul_nsld, SLDm=ul_msld, thick=ul_thick, rough=3, underlayer=True)    \n",
    "    substrate = SLD(2.074, name='Substrate')(rough=3)\n",
    "\n",
    "\n",
    "    params = [\n",
    "        layer1_thick,\n",
    "        layer2_thick,\n",
    "        layer1_rough,\n",
    "        layer2_rough,\n",
    "    ]\n",
    "\n",
    "    for param in params:\n",
    "        param.vary = True\n",
    "\n",
    "    optimize = [\n",
    "        ul_msld,\n",
    "        ul_thick,\n",
    "        ul_nsld,\n",
    "    ]\n",
    "\n",
    "    for params in optimize:\n",
    "        params.optimize = True\n",
    "\n",
    "    sample = air | layer1  | layer2 | layer1 | underlayer | substrate\n",
    "    return sample\n",
    "\n",
    "sample = Sample(simple_sample())\n",
    "\n",
    "angle_times = [(0.7, 100, 100),\n",
    "               (2.3, 100, 400),\n",
    "               ]\n"
   ]
  },
  {
   "cell_type": "markdown",
   "source": [],
   "metadata": {
    "collapsed": false
   },
   "id": "e3fc5a7f3f11f0e7"
  },
  {
   "cell_type": "code",
   "outputs": [],
   "source": [
    "sample.optimise_parameters(angle_times)"
   ],
   "metadata": {
    "collapsed": false
   },
   "id": "6fd1f32510bc4055",
   "execution_count": null
  },
  {
   "cell_type": "code",
   "outputs": [],
   "source": [
    "sample.sld_profile(single=False)"
   ],
   "metadata": {
    "collapsed": false
   },
   "id": "860d4c0c35b6e141",
   "execution_count": null
  },
  {
   "cell_type": "code",
   "outputs": [],
   "source": [
    "sample.reflectivity_profile()"
   ],
   "metadata": {
    "collapsed": false
   },
   "id": "3dcb8a8e8824ab26",
   "execution_count": null
  }
 ],
 "metadata": {
  "kernelspec": {
   "display_name": "Python 3",
   "language": "python",
   "name": "python3"
  },
  "language_info": {
   "codemirror_mode": {
    "name": "ipython",
    "version": 2
   },
   "file_extension": ".py",
   "mimetype": "text/x-python",
   "name": "python",
   "nbconvert_exporter": "python",
   "pygments_lexer": "ipython2",
   "version": "2.7.6"
  }
 },
 "nbformat": 4,
 "nbformat_minor": 5
}
