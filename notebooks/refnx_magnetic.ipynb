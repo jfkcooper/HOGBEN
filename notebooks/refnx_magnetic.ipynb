{
 "cells": [
  {
   "cell_type": "code",
   "execution_count": null,
   "id": "initial_id",
   "metadata": {
    "collapsed": true
   },
   "outputs": [],
   "source": [
    "import copy\n",
    "%matplotlib inline\n",
    "\n",
    "import refnx\n",
    "from refnx.reflect import SLD\n",
    "from hogben.utils import Fisher\n",
    "from hogben.optimise import Optimiser\n",
    "from hogben.models.samples import Sample, MagneticLayerSLD\n",
    "\n",
    "def simple_sample():\n",
    "    \"\"\"Define a bilayer sample, and return the associated refnx model\"\"\"\n",
    "    # Define sample\n",
    "\n",
    "    layer1_thick = refnx.analysis.Parameter(50, 'Layer1 thickness', (30, 150))\n",
    "    layer2_thick = refnx.analysis.Parameter(40, 'Layer2 thickness', (30, 150))\n",
    "    layer1_rough = refnx.analysis.Parameter(6, 'Layer1 Roughness', (2, 10))\n",
    "    layer2_rough = refnx.analysis.Parameter(7, 'Layer2 roughness', (2, 10))\n",
    "\n",
    "    ul_thick = refnx.analysis.Parameter(50, 'Underlayer thickness', (0, 350))\n",
    "    ul_nsld = refnx.analysis.Parameter(2, 'Underlayer Nuclear SLD', (1.5, 6))\n",
    "    ul_msld = refnx.analysis.Parameter(2, 'Underlayer Magnetic SLD', (0, 6))    \n",
    "\n",
    "    air = refnx.reflect.SLD(0, name='Air')    \n",
    "    layer1 = refnx.reflect.SLD(3, name=\"Layer 1\")(thick=layer1_thick, rough=layer1_rough)\n",
    "    layer2 = refnx.reflect.SLD(-0.5, name=\"Layer 2\")(thick=layer2_thick, rough=layer2_rough)\n",
    "\n",
    "    underlayer = MagneticLayerSLD(SLDn=ul_nsld, SLDm=ul_msld, thick=ul_thick, rough=5, underlayer=True)    \n",
    "    substrate = SLD(2.074, name='Substrate')(rough=3)\n",
    "\n",
    "\n",
    "\n",
    "\n",
    "    params = [\n",
    "        layer1_thick,\n",
    "        layer2_thick,\n",
    "        layer1_rough,\n",
    "        layer2_rough,\n",
    "    ]\n",
    "\n",
    "    for param in params:\n",
    "        param.vary = True\n",
    "\n",
    "    optimize = [\n",
    "        ul_msld,\n",
    "        ul_thick,\n",
    "        ul_nsld,\n",
    "    ]\n",
    "\n",
    "    for params in optimize:\n",
    "        params.optimize = True\n",
    "\n",
    "    sample = substrate | underlayer | layer1 | layer2 | layer1 | air\n",
    "    return sample\n",
    "\n",
    "sample = Sample(simple_sample())\n",
    "\n",
    "angle_times = [(0.7, 100, 100),\n",
    "               (2.3, 100, 400),\n",
    "               ]\n"
   ]
  },
  {
   "cell_type": "code",
   "outputs": [],
   "source": [
    "optimiser = Optimiser(sample)\n",
    "res, val = optimiser.optimise_parameters(angle_times, verbose=False)\n",
    "\n",
    "\n",
    "print(\"The parameters with the highest information could be found at:\")\n",
    "for param, value in zip(sample.get_optimization_parameters(), res):\n",
    "    print(f\"{param.name}: {value}\")\n",
    "    param.value = value\n",
    "print(\"----------------------\")"
   ],
   "metadata": {
    "collapsed": false
   },
   "id": "3e101fa0a76428c0",
   "execution_count": null
  },
  {
   "cell_type": "code",
   "outputs": [],
   "source": [
    "angle_times2 = [(0.7, 100, 200),\n",
    "               (2.3, 100, 800),\n",
    "               ]\n",
    "sample_no_ul = copy.deepcopy(sample)._remove_underlayers()\n",
    "fisher = Fisher.from_sample(sample, angle_times)\n",
    "fisher_no_ul = Fisher.from_sample(sample_no_ul, angle_times2)\n",
    "ratio = fisher.min_eigenval / fisher_no_ul.min_eigenval\n",
    "print(f\"Fisher with underlayer {fisher.min_eigenval:.4f}\")\n",
    "print(f\"Fisher without underlayer {fisher_no_ul.min_eigenval:.4f}\")\n",
    "print(f\"Improvement of {(ratio * 100 - 100):.2f}% with underlayer\")"
   ],
   "metadata": {
    "collapsed": false
   },
   "id": "3dcb8a8e8824ab26",
   "execution_count": null
  },
  {
   "cell_type": "code",
   "outputs": [],
   "source": [],
   "metadata": {
    "collapsed": false
   },
   "id": "5405a3a09be242e",
   "execution_count": null
  }
 ],
 "metadata": {
  "kernelspec": {
   "display_name": "Python 3",
   "language": "python",
   "name": "python3"
  },
  "language_info": {
   "codemirror_mode": {
    "name": "ipython",
    "version": 2
   },
   "file_extension": ".py",
   "mimetype": "text/x-python",
   "name": "python",
   "nbconvert_exporter": "python",
   "pygments_lexer": "ipython2",
   "version": "2.7.6"
  }
 },
 "nbformat": 4,
 "nbformat_minor": 5
}
