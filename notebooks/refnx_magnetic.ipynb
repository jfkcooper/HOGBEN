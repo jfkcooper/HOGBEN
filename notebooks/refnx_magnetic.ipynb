{
 "cells": [
  {
   "cell_type": "code",
   "execution_count": null,
   "id": "initial_id",
   "metadata": {
    "collapsed": true
   },
   "outputs": [],
   "source": [
    "import copy\n",
    "%matplotlib inline\n",
    "\n",
    "import refnx\n",
    "from refnx.reflect import SLD\n",
    "from refnx.analysis import Parameter\n",
    "from hogben.models.samples import Sample, MagneticLayerSLD\n",
    "from hogben.optimise import optimise_parameters\n",
    "from hogben.models.bilayers import BilayerDPPC\n",
    "from hogben.utils import Fisher\n",
    "\n",
    "# def simple_sample():\n",
    "#     \"\"\"Define a bilayer sample, and return the associated refnx model\"\"\"\n",
    "#     # Define sample\n",
    "# \n",
    "#     layer1_thick = Parameter(70, 'Layer1 thickness', (50, 90))\n",
    "#     layer2_thick = Parameter(40, 'Layer2 thickness', (30, 50))\n",
    "#     layer1_rough = Parameter(5, 'Layer1 Roughness', (2, 10))\n",
    "#     layer2_rough = Parameter(6, 'Layer2 roughness', (2, 10))\n",
    "# \n",
    "#     ul_thick = Parameter(125, 'Underlayer Thickness', (0, 250))\n",
    "#     ul_nsld = Parameter(4, 'Underlayer Nuclear SLD', (1.5, 7))\n",
    "#     ul_msld = Parameter(2.7, 'Underlayer Magnetic SLD', (0, 5))    \n",
    "# \n",
    "#     air = refnx.reflect.SLD(0, name='Air')    \n",
    "#         \n",
    "#     layer1 = refnx.reflect.SLD(6.5, name=\"Layer 1\")(thick=layer1_thick, rough=layer1_rough)\n",
    "#     layer2 = refnx.reflect.SLD(1.5, name=\"Layer 2\")(thick=layer2_thick, rough=layer2_rough)\n",
    "#     underlayer = MagneticLayerSLD(SLDn=ul_nsld, SLDm=ul_msld, thick=ul_thick, rough=5, underlayer=True, name=\"Underlayer\")    \n",
    "#     \n",
    "#     substrate = SLD(2.074, name='Substrate')(rough=5)\n",
    "# \n",
    "# \n",
    "#     params = [\n",
    "#         layer1_thick,\n",
    "#         layer2_thick,\n",
    "#         layer1_rough,\n",
    "#         layer2_rough,\n",
    "#     ]\n",
    "# \n",
    "#     for param in params:\n",
    "#         param.vary = True\n",
    "# \n",
    "#     optimize = [\n",
    "#        ul_msld,\n",
    "#        ul_thick,\n",
    "#        ul_nsld,\n",
    "#     ]\n",
    "# \n",
    "#     for params in optimize:\n",
    "#         params.optimize = True\n",
    "#     \n",
    "#     sample = air | layer2 | layer1 | layer2 | underlayer | substrate\n",
    "#     return sample\n",
    "# \n",
    "# sample = Sample(simple_sample())\n",
    "angle_times = [(0.7, 100, 100),\n",
    "               (2.3, 100, 400),\n",
    "               ]    \n",
    "\n",
    "from hogben.utils import flatten\n",
    "sample = BilayerDPPC()\n",
    "sample.bkg = 1e-6"
   ]
  },
  {
   "cell_type": "code",
   "outputs": [],
   "source": [
    "optimise_parameters(sample, angle_times)"
   ],
   "metadata": {
    "collapsed": false
   },
   "id": "6fd1f32510bc4055",
   "execution_count": null
  },
  {
   "cell_type": "code",
   "outputs": [],
   "source": [
    "sample.sld_profile()"
   ],
   "metadata": {
    "collapsed": false
   },
   "id": "860d4c0c35b6e141",
   "execution_count": null
  },
  {
   "cell_type": "code",
   "outputs": [],
   "source": [
    "sample.reflectivity_profile()"
   ],
   "metadata": {
    "collapsed": false
   },
   "id": "3dcb8a8e8824ab26",
   "execution_count": null
  },
  {
   "cell_type": "code",
   "outputs": [],
   "source": [
    "print(sample.underlayers_indices)"
   ],
   "metadata": {
    "collapsed": false
   },
   "id": "6a16044bc9dfecf4",
   "execution_count": null
  },
  {
   "cell_type": "code",
   "outputs": [],
   "source": [
    "sample_copy = copy.deepcopy(sample)\n",
    "sample_copy._remove_underlayers()\n",
    "sample_copy.sld_profile()"
   ],
   "metadata": {
    "collapsed": false
   },
   "id": "5375f5bd4651a82",
   "execution_count": null
  },
  {
   "cell_type": "code",
   "outputs": [],
   "source": [
    "sample2 = copy.deepcopy(sample)\n",
    "sample3 = copy.deepcopy(sample)\n",
    "\n",
    "sample3._remove_underlayers()        \n",
    "for structure in sample2.structures:\n",
    "    for layer in structure:\n",
    "        if hasattr(layer, \"underlayer\"):\n",
    "            layer.thick.value = 0\n",
    "            \n",
    "sample3.sld_profile()\n",
    "sample2.sld_profile()\n",
    "# print(Fisher.from_sample(sample_copy, angle_times).min_eigenval*4)\n",
    "# \n",
    "print(Fisher.from_sample(sample2, angle_times).min_eigenval*2)\n",
    "print(Fisher.from_sample(sample3, angle_times).min_eigenval*4)\n"
   ],
   "metadata": {
    "collapsed": false
   },
   "id": "d544fadff4610506",
   "execution_count": null
  },
  {
   "cell_type": "code",
   "outputs": [],
   "source": [],
   "metadata": {
    "collapsed": false
   },
   "id": "6e828860f0580735",
   "execution_count": null
  },
  {
   "cell_type": "code",
   "outputs": [],
   "source": [],
   "metadata": {
    "collapsed": false
   },
   "id": "b76a192dafc6cc0",
   "execution_count": null
  }
 ],
 "metadata": {
  "kernelspec": {
   "display_name": "Python 3",
   "language": "python",
   "name": "python3"
  },
  "language_info": {
   "codemirror_mode": {
    "name": "ipython",
    "version": 2
   },
   "file_extension": ".py",
   "mimetype": "text/x-python",
   "name": "python",
   "nbconvert_exporter": "python",
   "pygments_lexer": "ipython2",
   "version": "2.7.6"
  }
 },
 "nbformat": 4,
 "nbformat_minor": 5
}
